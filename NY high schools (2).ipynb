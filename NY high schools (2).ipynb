{
 "cells": [
  {
   "cell_type": "markdown",
   "metadata": {},
   "source": [
    "## Identifying Biases in Standardized Tests.\n",
    "\n",
    "# Introduction: \n",
    "Our goal here is to identify whether SAT tests have some sort of bias towards people of certain demographics. The fairness of standardized testing has been a topic of debate for a while now and what this analysis looks to give insight to where this unfairness play a role. For the purpose of this analysis we will be looking at schools in New York.\n",
    "We are going to be working with 8 data sets, some of the data included are:\n",
    "* `ap_2010.csv`: This contains data on AP tests enrollment.\n",
    "* `demographics.csv`: This contains data on the different demographics of people in NY high scools.\n",
    "* `sat_results`: This contains data on the average SAT scores of different schools in New Yrok."
   ]
  },
  {
   "cell_type": "markdown",
   "metadata": {},
   "source": [
    "# Read in the data"
   ]
  },
  {
   "cell_type": "code",
   "execution_count": 1,
   "metadata": {},
   "outputs": [],
   "source": [
    "import pandas as pd\n",
    "import numpy as np\n",
    "import re\n",
    "\n",
    "data_files = [\n",
    "    \"ap_2010.csv\",\n",
    "    \"class_size.csv\",\n",
    "    \"demographics.csv\",\n",
    "    \"graduation.csv\",\n",
    "    \"hs_directory.csv\",\n",
    "    \"sat_results.csv\"\n",
    "]\n",
    "\n",
    "data = {}\n",
    "\n",
    "for f in data_files:\n",
    "    d = pd.read_csv(\"schools/{0}\".format(f))\n",
    "    data[f.replace(\".csv\", \"\")] = d"
   ]
  },
  {
   "cell_type": "markdown",
   "metadata": {},
   "source": [
    "# Read in the surveys"
   ]
  },
  {
   "cell_type": "code",
   "execution_count": 2,
   "metadata": {},
   "outputs": [],
   "source": [
    "all_survey = pd.read_csv(\"schools/survey_all.txt\", delimiter=\"\\t\", encoding='windows-1252')\n",
    "d75_survey = pd.read_csv(\"schools/survey_d75.txt\", delimiter=\"\\t\", encoding='windows-1252')\n",
    "survey = pd.concat([all_survey, d75_survey], axis=0)\n",
    "\n",
    "survey[\"DBN\"] = survey[\"dbn\"]\n",
    "\n",
    "survey_fields = [\n",
    "    \"DBN\", \n",
    "    \"rr_s\", \n",
    "    \"rr_t\", \n",
    "    \"rr_p\", \n",
    "    \"N_s\", \n",
    "    \"N_t\", \n",
    "    \"N_p\", \n",
    "    \"saf_p_11\", \n",
    "    \"com_p_11\", \n",
    "    \"eng_p_11\", \n",
    "    \"aca_p_11\", \n",
    "    \"saf_t_11\", \n",
    "    \"com_t_11\", \n",
    "    \"eng_t_11\", \n",
    "    \"aca_t_11\", \n",
    "    \"saf_s_11\", \n",
    "    \"com_s_11\", \n",
    "    \"eng_s_11\", \n",
    "    \"aca_s_11\", \n",
    "    \"saf_tot_11\", \n",
    "    \"com_tot_11\", \n",
    "    \"eng_tot_11\", \n",
    "    \"aca_tot_11\",\n",
    "]\n",
    "survey = survey.loc[:,survey_fields]\n",
    "data[\"survey\"] = survey"
   ]
  },
  {
   "cell_type": "markdown",
   "metadata": {},
   "source": [
    "# Add DBN columns"
   ]
  },
  {
   "cell_type": "code",
   "execution_count": 3,
   "metadata": {},
   "outputs": [],
   "source": [
    "data[\"hs_directory\"][\"DBN\"] = data[\"hs_directory\"][\"dbn\"]\n",
    "\n",
    "def pad_csd(num):\n",
    "    string_representation = str(num)\n",
    "    if len(string_representation) > 1:\n",
    "        return string_representation\n",
    "    else:\n",
    "        return \"0\" + string_representation\n",
    "    \n",
    "data[\"class_size\"][\"padded_csd\"] = data[\"class_size\"][\"CSD\"].apply(pad_csd)\n",
    "data[\"class_size\"][\"DBN\"] = data[\"class_size\"][\"padded_csd\"] + data[\"class_size\"][\"SCHOOL CODE\"]"
   ]
  },
  {
   "cell_type": "markdown",
   "metadata": {},
   "source": [
    "# Convert columns to numeric"
   ]
  },
  {
   "cell_type": "code",
   "execution_count": 4,
   "metadata": {},
   "outputs": [],
   "source": [
    "cols = ['SAT Math Avg. Score', 'SAT Critical Reading Avg. Score', 'SAT Writing Avg. Score']\n",
    "for c in cols:\n",
    "    data[\"sat_results\"][c] = pd.to_numeric(data[\"sat_results\"][c], errors=\"coerce\")\n",
    "\n",
    "data['sat_results']['sat_score'] = data['sat_results'][cols[0]] + data['sat_results'][cols[1]] + data['sat_results'][cols[2]]\n",
    "\n",
    "def find_lat(loc):\n",
    "    ### uses the regex pattern to extract the latitude\n",
    "    coords = re.findall(\"\\(.+, .+\\)\", loc)\n",
    "    lat = coords[0].split(\",\")[0].replace(\"(\", \"\")\n",
    "    return lat\n",
    "\n",
    "def find_lon(loc):\n",
    "    ### uses the regex pattern to extract the longitude\n",
    "    coords = re.findall(\"\\(.+, .+\\)\", loc)\n",
    "    lon = coords[0].split(\",\")[1].replace(\")\", \"\").strip()\n",
    "    return lon\n",
    "\n",
    "data[\"hs_directory\"][\"lat\"] = data[\"hs_directory\"][\"Location 1\"].apply(find_lat)\n",
    "data[\"hs_directory\"][\"lon\"] = data[\"hs_directory\"][\"Location 1\"].apply(find_lon)\n",
    "\n",
    "data[\"hs_directory\"][\"lat\"] = pd.to_numeric(data[\"hs_directory\"][\"lat\"], errors=\"coerce\")\n",
    "data[\"hs_directory\"][\"lon\"] = pd.to_numeric(data[\"hs_directory\"][\"lon\"], errors=\"coerce\")"
   ]
  },
  {
   "cell_type": "markdown",
   "metadata": {},
   "source": [
    "# Condense datasets"
   ]
  },
  {
   "cell_type": "code",
   "execution_count": 5,
   "metadata": {},
   "outputs": [],
   "source": [
    "class_size = data[\"class_size\"]\n",
    "class_size = class_size[class_size[\"GRADE \"] == \"09-12\"]\n",
    "class_size = class_size[class_size[\"PROGRAM TYPE\"] == \"GEN ED\"]\n",
    "\n",
    "class_size = class_size.groupby(\"DBN\").agg(np.mean)\n",
    "class_size.reset_index(inplace=True)\n",
    "data[\"class_size\"] = class_size\n",
    "\n",
    "data[\"demographics\"] = data[\"demographics\"][data[\"demographics\"][\"schoolyear\"] == 20112012]\n",
    "\n",
    "data[\"graduation\"] = data[\"graduation\"][data[\"graduation\"][\"Cohort\"] == \"2006\"]\n",
    "data[\"graduation\"] = data[\"graduation\"][data[\"graduation\"][\"Demographic\"] == \"Total Cohort\"]"
   ]
  },
  {
   "cell_type": "markdown",
   "metadata": {},
   "source": [
    "# Convert AP scores to numeric"
   ]
  },
  {
   "cell_type": "code",
   "execution_count": 6,
   "metadata": {},
   "outputs": [],
   "source": [
    "cols = ['AP Test Takers ', 'Total Exams Taken', 'Number of Exams with scores 3 4 or 5']\n",
    "\n",
    "for col in cols:\n",
    "    data[\"ap_2010\"][col] = pd.to_numeric(data[\"ap_2010\"][col], errors=\"coerce\")"
   ]
  },
  {
   "cell_type": "markdown",
   "metadata": {},
   "source": [
    "# Combine the datasets"
   ]
  },
  {
   "cell_type": "code",
   "execution_count": 7,
   "metadata": {},
   "outputs": [],
   "source": [
    "combined = data[\"sat_results\"]\n",
    "\n",
    "combined = combined.merge(data[\"ap_2010\"], on=\"DBN\", how=\"left\")\n",
    "combined = combined.merge(data[\"graduation\"], on=\"DBN\", how=\"left\")\n",
    "\n",
    "to_merge = [\"class_size\", \"demographics\", \"survey\", \"hs_directory\"]\n",
    "\n",
    "for m in to_merge:\n",
    "    combined = combined.merge(data[m], on=\"DBN\", how=\"inner\")\n",
    "\n",
    "combined = combined.fillna(combined.mean())\n",
    "combined = combined.fillna(0)"
   ]
  },
  {
   "cell_type": "markdown",
   "metadata": {},
   "source": [
    "# Add a school district column for mapping"
   ]
  },
  {
   "cell_type": "code",
   "execution_count": 8,
   "metadata": {},
   "outputs": [],
   "source": [
    "def get_first_two_chars(dbn):\n",
    "    return dbn[0:2]\n",
    "\n",
    "combined[\"school_dist\"] = combined[\"DBN\"].apply(get_first_two_chars)"
   ]
  },
  {
   "cell_type": "markdown",
   "metadata": {},
   "source": [
    "# Find correlations"
   ]
  },
  {
   "cell_type": "code",
   "execution_count": 9,
   "metadata": {},
   "outputs": [
    {
     "name": "stdout",
     "output_type": "stream",
     "text": [
      "SAT Critical Reading Avg. Score    0.986820\n",
      "SAT Math Avg. Score                0.972643\n",
      "SAT Writing Avg. Score             0.987771\n",
      "sat_score                          1.000000\n",
      "AP Test Takers                     0.523140\n",
      "                                     ...   \n",
      "priority08                              NaN\n",
      "priority09                              NaN\n",
      "priority10                              NaN\n",
      "lat                               -0.121029\n",
      "lon                               -0.132222\n",
      "Name: sat_score, Length: 67, dtype: float64\n"
     ]
    }
   ],
   "source": [
    "correlations = combined.corr()\n",
    "correlations = correlations[\"sat_score\"]\n",
    "print(correlations)"
   ]
  },
  {
   "cell_type": "markdown",
   "metadata": {},
   "source": [
    "# Plotting survey correlations"
   ]
  },
  {
   "cell_type": "code",
   "execution_count": 10,
   "metadata": {},
   "outputs": [],
   "source": [
    "# Remove DBN since it's a unique identifier, not a useful numerical value for correlation.\n",
    "survey_fields.remove(\"DBN\")"
   ]
  },
  {
   "cell_type": "code",
   "execution_count": 11,
   "metadata": {},
   "outputs": [],
   "source": [
    "import matplotlib.pyplot as plt\n",
    "import matplotlib.style as style\n",
    "style.use('fivethirtyeight')\n",
    "%matplotlib inline"
   ]
  },
  {
   "cell_type": "code",
   "execution_count": 12,
   "metadata": {},
   "outputs": [],
   "source": [
    "survey_correlation = combined.corr()[\"sat_score\"][survey_fields]"
   ]
  },
  {
   "cell_type": "code",
   "execution_count": 13,
   "metadata": {},
   "outputs": [
    {
     "data": {
      "image/png": "[encoded data removed]",
      "text/plain": [
       "<Figure size 600x400 with 1 Axes>"
      ]
     },
     "metadata": {},
     "output_type": "display_data"
    }
   ],
   "source": [
    "#returns a bar plot of the r values between different survey response and SAT scores\n",
    "positive_corr = survey_correlation > 0\n",
    "corr_map = positive_corr.map({True:'#151b8d', False:'#ff4500'})\n",
    "survey_correlation.plot(kind='bar', legend=False, color=corr_map)\n",
    "plt.show()"
   ]
  },
  {
   "cell_type": "markdown",
   "metadata": {},
   "source": [
    "One of the most imteresting things that we can find from our correlation plot is that SAT scores correlated most with the number of student respondents(N_s),  number of parent respondents(N_P), safetfy and respect score based on student response(saf_s_11), safety and respect score based on teachers response(saf_t_11) and academic expectation score based on student responses(aca_s_11)."
   ]
  },
  {
   "cell_type": "markdown",
   "metadata": {},
   "source": [
    "# Exploring Correlation between SAT Score and Safety Score"
   ]
  },
  {
   "cell_type": "code",
   "execution_count": 14,
   "metadata": {
    "scrolled": true
   },
   "outputs": [
    {
     "data": {
      "image/png": "[encoded data removed]",
      "text/plain": [
       "<Figure size 600x400 with 1 Axes>"
      ]
     },
     "metadata": {},
     "output_type": "display_data"
    }
   ],
   "source": [
    "combined.plot.scatter(x='saf_s_11', y='sat_score', c='#3ea99f')\n",
    "plt.show()"
   ]
  },
  {
   "cell_type": "markdown",
   "metadata": {},
   "source": [
    "Looking at  our plot there doesn't seem to be a very strong correlation between the safety score and SAT scores."
   ]
  },
  {
   "cell_type": "markdown",
   "metadata": {},
   "source": [
    "# Grouping Data by Boroughs"
   ]
  },
  {
   "cell_type": "code",
   "execution_count": 15,
   "metadata": {},
   "outputs": [],
   "source": [
    "#groups data by a specific column\n",
    "boroughs = combined.groupby('boro').agg(np.mean)"
   ]
  },
  {
   "cell_type": "code",
   "execution_count": 16,
   "metadata": {},
   "outputs": [],
   "source": [
    "boro_safety = boroughs['saf_s_11']"
   ]
  },
  {
   "cell_type": "code",
   "execution_count": 17,
   "metadata": {},
   "outputs": [
    {
     "data": {
      "text/plain": [
       "boro\n",
       "Bronx            6.606577\n",
       "Brooklyn         6.370755\n",
       "Manhattan        6.831370\n",
       "Queens           6.721875\n",
       "Staten Island    6.530000\n",
       "Name: saf_s_11, dtype: float64"
      ]
     },
     "execution_count": 17,
     "metadata": {},
     "output_type": "execute_result"
    }
   ],
   "source": [
    "boro_safety"
   ]
  },
  {
   "cell_type": "markdown",
   "metadata": {},
   "source": [
    "Manhattan, Quuens and Bronx seem to have the highest average safety score amongst all of the boroughs in New York."
   ]
  },
  {
   "cell_type": "markdown",
   "metadata": {},
   "source": [
    "# Correlation with Race "
   ]
  },
  {
   "cell_type": "code",
   "execution_count": 18,
   "metadata": {},
   "outputs": [
    {
     "data": {
      "image/png": "[encoded data removed]",
      "text/plain": [
       "<Figure size 600x400 with 1 Axes>"
      ]
     },
     "metadata": {},
     "output_type": "display_data"
    }
   ],
   "source": [
    "#returns a bar plot of the r values between race and SAT scores\n",
    "race_col = ['white_per', 'asian_per', 'black_per', 'hispanic_per']\n",
    "race_corr = combined.corr()['sat_score'][race_col]\n",
    "positive_corr = combined.corr()['sat_score'][race_col] > 0\n",
    "corr_map = positive_corr.map({True:'#151b8d', False:'#ff4500'})\n",
    "race_corr.plot(kind='bar', color=corr_map)\n",
    "plt.show()"
   ]
  },
  {
   "cell_type": "markdown",
   "metadata": {},
   "source": [
    "Looking at our bar plot, we can see that both the white percentage and the Asian percentage has a strong positive correlation with the SAT scores while the black and especially the Hispanic percentage has a high negative correlation with the SAT scores."
   ]
  },
  {
   "cell_type": "markdown",
   "metadata": {},
   "source": [
    "# Exploring Hispanic Percentages"
   ]
  },
  {
   "cell_type": "code",
   "execution_count": 19,
   "metadata": {},
   "outputs": [
    {
     "data": {
      "text/html": [
       "<div>\n",
       "<style scoped>\n",
       "    .dataframe tbody tr th:only-of-type {\n",
       "        vertical-align: middle;\n",
       "    }\n",
       "\n",
       "    .dataframe tbody tr th {\n",
       "        vertical-align: top;\n",
       "    }\n",
       "\n",
       "    .dataframe thead th {\n",
       "        text-align: right;\n",
       "    }\n",
       "</style>\n",
       "<table border=\"1\" class=\"dataframe\">\n",
       "  <thead>\n",
       "    <tr style=\"text-align: right;\">\n",
       "      <th></th>\n",
       "      <th>DBN</th>\n",
       "      <th>SCHOOL NAME</th>\n",
       "      <th>Num of SAT Test Takers</th>\n",
       "      <th>SAT Critical Reading Avg. Score</th>\n",
       "      <th>SAT Math Avg. Score</th>\n",
       "      <th>SAT Writing Avg. Score</th>\n",
       "      <th>sat_score</th>\n",
       "      <th>SchoolName</th>\n",
       "      <th>AP Test Takers</th>\n",
       "      <th>Total Exams Taken</th>\n",
       "      <th>...</th>\n",
       "      <th>priority05</th>\n",
       "      <th>priority06</th>\n",
       "      <th>priority07</th>\n",
       "      <th>priority08</th>\n",
       "      <th>priority09</th>\n",
       "      <th>priority10</th>\n",
       "      <th>Location 1</th>\n",
       "      <th>lat</th>\n",
       "      <th>lon</th>\n",
       "      <th>school_dist</th>\n",
       "    </tr>\n",
       "  </thead>\n",
       "  <tbody>\n",
       "    <tr>\n",
       "      <th>91</th>\n",
       "      <td>07X334</td>\n",
       "      <td>INTERNATIONAL COMMUNITY HIGH SCHOOL</td>\n",
       "      <td>34</td>\n",
       "      <td>310.0</td>\n",
       "      <td>324.0</td>\n",
       "      <td>311.0</td>\n",
       "      <td>945.0</td>\n",
       "      <td>0</td>\n",
       "      <td>129.028846</td>\n",
       "      <td>197.038462</td>\n",
       "      <td>...</td>\n",
       "      <td>0</td>\n",
       "      <td>0</td>\n",
       "      <td>0</td>\n",
       "      <td>0.0</td>\n",
       "      <td>0.0</td>\n",
       "      <td>0.0</td>\n",
       "      <td>345 Brook Avenue\\nBronx, NY 10454\\n(40.8100361...</td>\n",
       "      <td>40.810036</td>\n",
       "      <td>-73.917812</td>\n",
       "      <td>07</td>\n",
       "    </tr>\n",
       "    <tr>\n",
       "      <th>125</th>\n",
       "      <td>09X365</td>\n",
       "      <td>ACADEMY FOR LANGUAGE AND TECHNOLOGY</td>\n",
       "      <td>54</td>\n",
       "      <td>315.0</td>\n",
       "      <td>339.0</td>\n",
       "      <td>297.0</td>\n",
       "      <td>951.0</td>\n",
       "      <td>Academy for Language and Technology</td>\n",
       "      <td>20.000000</td>\n",
       "      <td>20.000000</td>\n",
       "      <td>...</td>\n",
       "      <td>0</td>\n",
       "      <td>0</td>\n",
       "      <td>0</td>\n",
       "      <td>0.0</td>\n",
       "      <td>0.0</td>\n",
       "      <td>0.0</td>\n",
       "      <td>1700 Macombs Road\\nBronx, NY 10453\\n(40.849102...</td>\n",
       "      <td>40.849102</td>\n",
       "      <td>-73.916088</td>\n",
       "      <td>09</td>\n",
       "    </tr>\n",
       "    <tr>\n",
       "      <th>126</th>\n",
       "      <td>09X403</td>\n",
       "      <td>BRONX INTERNATIONAL HIGH SCHOOL</td>\n",
       "      <td>49</td>\n",
       "      <td>314.0</td>\n",
       "      <td>312.0</td>\n",
       "      <td>339.0</td>\n",
       "      <td>965.0</td>\n",
       "      <td>0</td>\n",
       "      <td>129.028846</td>\n",
       "      <td>197.038462</td>\n",
       "      <td>...</td>\n",
       "      <td>0</td>\n",
       "      <td>0</td>\n",
       "      <td>0</td>\n",
       "      <td>0.0</td>\n",
       "      <td>0.0</td>\n",
       "      <td>0.0</td>\n",
       "      <td>1110 Boston Road\\nBronx, NY 10456\\n(40.8276026...</td>\n",
       "      <td>40.827603</td>\n",
       "      <td>-73.904475</td>\n",
       "      <td>09</td>\n",
       "    </tr>\n",
       "    <tr>\n",
       "      <th>139</th>\n",
       "      <td>10X268</td>\n",
       "      <td>KINGSBRIDGE INTERNATIONAL HIGH SCHOOL</td>\n",
       "      <td>52</td>\n",
       "      <td>304.0</td>\n",
       "      <td>356.0</td>\n",
       "      <td>302.0</td>\n",
       "      <td>962.0</td>\n",
       "      <td>Kingsbridge International High School</td>\n",
       "      <td>32.000000</td>\n",
       "      <td>37.000000</td>\n",
       "      <td>...</td>\n",
       "      <td>0</td>\n",
       "      <td>0</td>\n",
       "      <td>0</td>\n",
       "      <td>0.0</td>\n",
       "      <td>0.0</td>\n",
       "      <td>0.0</td>\n",
       "      <td>2780 Reservoir Avenue\\nBronx, NY 10468\\n(40.87...</td>\n",
       "      <td>40.870377</td>\n",
       "      <td>-73.898163</td>\n",
       "      <td>10</td>\n",
       "    </tr>\n",
       "    <tr>\n",
       "      <th>141</th>\n",
       "      <td>10X342</td>\n",
       "      <td>INTERNATIONAL SCHOOL FOR LIBERAL ARTS</td>\n",
       "      <td>49</td>\n",
       "      <td>300.0</td>\n",
       "      <td>333.0</td>\n",
       "      <td>301.0</td>\n",
       "      <td>934.0</td>\n",
       "      <td>International School for Liberal Arts</td>\n",
       "      <td>55.000000</td>\n",
       "      <td>73.000000</td>\n",
       "      <td>...</td>\n",
       "      <td>0</td>\n",
       "      <td>0</td>\n",
       "      <td>0</td>\n",
       "      <td>0.0</td>\n",
       "      <td>0.0</td>\n",
       "      <td>0.0</td>\n",
       "      <td>2780 Reservoir Avenue\\nBronx, NY 10468\\n(40.87...</td>\n",
       "      <td>40.870377</td>\n",
       "      <td>-73.898163</td>\n",
       "      <td>10</td>\n",
       "    </tr>\n",
       "    <tr>\n",
       "      <th>176</th>\n",
       "      <td>12X388</td>\n",
       "      <td>PAN AMERICAN INTERNATIONAL HIGH SCHOOL AT MONROE</td>\n",
       "      <td>30</td>\n",
       "      <td>321.0</td>\n",
       "      <td>351.0</td>\n",
       "      <td>298.0</td>\n",
       "      <td>970.0</td>\n",
       "      <td>0</td>\n",
       "      <td>129.028846</td>\n",
       "      <td>197.038462</td>\n",
       "      <td>...</td>\n",
       "      <td>0</td>\n",
       "      <td>0</td>\n",
       "      <td>0</td>\n",
       "      <td>0.0</td>\n",
       "      <td>0.0</td>\n",
       "      <td>0.0</td>\n",
       "      <td>1300 Boynton Avenue\\nBronx, NY 10472\\n(40.8313...</td>\n",
       "      <td>40.831366</td>\n",
       "      <td>-73.878823</td>\n",
       "      <td>12</td>\n",
       "    </tr>\n",
       "    <tr>\n",
       "      <th>179</th>\n",
       "      <td>12X550</td>\n",
       "      <td>HIGH SCHOOL OF WORLD CULTURES</td>\n",
       "      <td>42</td>\n",
       "      <td>304.0</td>\n",
       "      <td>323.0</td>\n",
       "      <td>312.0</td>\n",
       "      <td>939.0</td>\n",
       "      <td>0</td>\n",
       "      <td>129.028846</td>\n",
       "      <td>197.038462</td>\n",
       "      <td>...</td>\n",
       "      <td>0</td>\n",
       "      <td>0</td>\n",
       "      <td>0</td>\n",
       "      <td>0.0</td>\n",
       "      <td>0.0</td>\n",
       "      <td>0.0</td>\n",
       "      <td>1300 Boynton Avenue\\nBronx, NY 10472\\n(40.8313...</td>\n",
       "      <td>40.831366</td>\n",
       "      <td>-73.878823</td>\n",
       "      <td>12</td>\n",
       "    </tr>\n",
       "    <tr>\n",
       "      <th>253</th>\n",
       "      <td>19K583</td>\n",
       "      <td>MULTICULTURAL HIGH SCHOOL</td>\n",
       "      <td>29</td>\n",
       "      <td>279.0</td>\n",
       "      <td>322.0</td>\n",
       "      <td>286.0</td>\n",
       "      <td>887.0</td>\n",
       "      <td>Multicultural High School</td>\n",
       "      <td>44.000000</td>\n",
       "      <td>44.000000</td>\n",
       "      <td>...</td>\n",
       "      <td>0</td>\n",
       "      <td>0</td>\n",
       "      <td>0</td>\n",
       "      <td>0.0</td>\n",
       "      <td>0.0</td>\n",
       "      <td>0.0</td>\n",
       "      <td>999 Jamaica Avenue\\nBrooklyn, NY 11208\\n(40.69...</td>\n",
       "      <td>40.691144</td>\n",
       "      <td>-73.868426</td>\n",
       "      <td>19</td>\n",
       "    </tr>\n",
       "    <tr>\n",
       "      <th>286</th>\n",
       "      <td>24Q296</td>\n",
       "      <td>PAN AMERICAN INTERNATIONAL HIGH SCHOOL</td>\n",
       "      <td>55</td>\n",
       "      <td>317.0</td>\n",
       "      <td>323.0</td>\n",
       "      <td>311.0</td>\n",
       "      <td>951.0</td>\n",
       "      <td>0</td>\n",
       "      <td>129.028846</td>\n",
       "      <td>197.038462</td>\n",
       "      <td>...</td>\n",
       "      <td>0</td>\n",
       "      <td>0</td>\n",
       "      <td>0</td>\n",
       "      <td>0.0</td>\n",
       "      <td>0.0</td>\n",
       "      <td>0.0</td>\n",
       "      <td>45-10 94Th Street\\nElmhurst, NY 11373\\n(40.743...</td>\n",
       "      <td>40.743303</td>\n",
       "      <td>-73.870575</td>\n",
       "      <td>24</td>\n",
       "    </tr>\n",
       "  </tbody>\n",
       "</table>\n",
       "<p>9 rows × 160 columns</p>\n",
       "</div>"
      ],
      "text/plain": [
       "        DBN                                       SCHOOL NAME  \\\n",
       "91   07X334               INTERNATIONAL COMMUNITY HIGH SCHOOL   \n",
       "125  09X365               ACADEMY FOR LANGUAGE AND TECHNOLOGY   \n",
       "126  09X403                   BRONX INTERNATIONAL HIGH SCHOOL   \n",
       "139  10X268             KINGSBRIDGE INTERNATIONAL HIGH SCHOOL   \n",
       "141  10X342             INTERNATIONAL SCHOOL FOR LIBERAL ARTS   \n",
       "176  12X388  PAN AMERICAN INTERNATIONAL HIGH SCHOOL AT MONROE   \n",
       "179  12X550                     HIGH SCHOOL OF WORLD CULTURES   \n",
       "253  19K583                         MULTICULTURAL HIGH SCHOOL   \n",
       "286  24Q296            PAN AMERICAN INTERNATIONAL HIGH SCHOOL   \n",
       "\n",
       "    Num of SAT Test Takers  SAT Critical Reading Avg. Score  \\\n",
       "91                      34                            310.0   \n",
       "125                     54                            315.0   \n",
       "126                     49                            314.0   \n",
       "139                     52                            304.0   \n",
       "141                     49                            300.0   \n",
       "176                     30                            321.0   \n",
       "179                     42                            304.0   \n",
       "253                     29                            279.0   \n",
       "286                     55                            317.0   \n",
       "\n",
       "     SAT Math Avg. Score  SAT Writing Avg. Score  sat_score  \\\n",
       "91                 324.0                   311.0      945.0   \n",
       "125                339.0                   297.0      951.0   \n",
       "126                312.0                   339.0      965.0   \n",
       "139                356.0                   302.0      962.0   \n",
       "141                333.0                   301.0      934.0   \n",
       "176                351.0                   298.0      970.0   \n",
       "179                323.0                   312.0      939.0   \n",
       "253                322.0                   286.0      887.0   \n",
       "286                323.0                   311.0      951.0   \n",
       "\n",
       "                                SchoolName  AP Test Takers   \\\n",
       "91                                       0       129.028846   \n",
       "125    Academy for Language and Technology        20.000000   \n",
       "126                                      0       129.028846   \n",
       "139  Kingsbridge International High School        32.000000   \n",
       "141  International School for Liberal Arts        55.000000   \n",
       "176                                      0       129.028846   \n",
       "179                                      0       129.028846   \n",
       "253              Multicultural High School        44.000000   \n",
       "286                                      0       129.028846   \n",
       "\n",
       "     Total Exams Taken  ...  priority05 priority06 priority07 priority08  \\\n",
       "91          197.038462  ...           0          0          0        0.0   \n",
       "125          20.000000  ...           0          0          0        0.0   \n",
       "126         197.038462  ...           0          0          0        0.0   \n",
       "139          37.000000  ...           0          0          0        0.0   \n",
       "141          73.000000  ...           0          0          0        0.0   \n",
       "176         197.038462  ...           0          0          0        0.0   \n",
       "179         197.038462  ...           0          0          0        0.0   \n",
       "253          44.000000  ...           0          0          0        0.0   \n",
       "286         197.038462  ...           0          0          0        0.0   \n",
       "\n",
       "     priority09 priority10                                         Location 1  \\\n",
       "91          0.0        0.0  345 Brook Avenue\\nBronx, NY 10454\\n(40.8100361...   \n",
       "125         0.0        0.0  1700 Macombs Road\\nBronx, NY 10453\\n(40.849102...   \n",
       "126         0.0        0.0  1110 Boston Road\\nBronx, NY 10456\\n(40.8276026...   \n",
       "139         0.0        0.0  2780 Reservoir Avenue\\nBronx, NY 10468\\n(40.87...   \n",
       "141         0.0        0.0  2780 Reservoir Avenue\\nBronx, NY 10468\\n(40.87...   \n",
       "176         0.0        0.0  1300 Boynton Avenue\\nBronx, NY 10472\\n(40.8313...   \n",
       "179         0.0        0.0  1300 Boynton Avenue\\nBronx, NY 10472\\n(40.8313...   \n",
       "253         0.0        0.0  999 Jamaica Avenue\\nBrooklyn, NY 11208\\n(40.69...   \n",
       "286         0.0        0.0  45-10 94Th Street\\nElmhurst, NY 11373\\n(40.743...   \n",
       "\n",
       "           lat        lon school_dist  \n",
       "91   40.810036 -73.917812          07  \n",
       "125  40.849102 -73.916088          09  \n",
       "126  40.827603 -73.904475          09  \n",
       "139  40.870377 -73.898163          10  \n",
       "141  40.870377 -73.898163          10  \n",
       "176  40.831366 -73.878823          12  \n",
       "179  40.831366 -73.878823          12  \n",
       "253  40.691144 -73.868426          19  \n",
       "286  40.743303 -73.870575          24  \n",
       "\n",
       "[9 rows x 160 columns]"
      ]
     },
     "execution_count": 19,
     "metadata": {},
     "output_type": "execute_result"
    }
   ],
   "source": [
    "#returns result for schools with > 60% hispanic and average SAT socres less than 1000\n",
    "hispanic_filt = (combined['hispanic_per'] >= 60) & (combined['sat_score'] < 1000)\n",
    "hispanic_low_sat = combined[hispanic_filt]\n",
    "hispanic_low_sat"
   ]
  },
  {
   "cell_type": "code",
   "execution_count": 20,
   "metadata": {},
   "outputs": [
    {
     "data": {
      "image/png": "[encoded data removed]",
      "text/plain": [
       "<Figure size 600x400 with 1 Axes>"
      ]
     },
     "metadata": {},
     "output_type": "display_data"
    }
   ],
   "source": [
    "#shows a scatter plot of the hispanic percetage and SAT scores\n",
    "combined.plot.scatter('hispanic_per', 'sat_score', c='#3ea99f')\n",
    "plt.show()\n"
   ]
  },
  {
   "cell_type": "markdown",
   "metadata": {},
   "source": [
    "Our scatter plot confirms the negative correlation between the hispanic percentages and SAT scores. Schools with lower hispanic percentages tend to have higher SAT scores. No school with over 60% of hispanic students have an SAT score up to 1600."
   ]
  },
  {
   "cell_type": "code",
   "execution_count": 21,
   "metadata": {},
   "outputs": [
    {
     "data": {
      "text/plain": [
       "44                         MANHATTAN BRIDGES HIGH SCHOOL\n",
       "82      WASHINGTON HEIGHTS EXPEDITIONARY LEARNING SCHOOL\n",
       "89     GREGORIO LUPERON HIGH SCHOOL FOR SCIENCE AND M...\n",
       "125                  ACADEMY FOR LANGUAGE AND TECHNOLOGY\n",
       "141                INTERNATIONAL SCHOOL FOR LIBERAL ARTS\n",
       "176     PAN AMERICAN INTERNATIONAL HIGH SCHOOL AT MONROE\n",
       "253                            MULTICULTURAL HIGH SCHOOL\n",
       "286               PAN AMERICAN INTERNATIONAL HIGH SCHOOL\n",
       "Name: SCHOOL NAME, dtype: object"
      ]
     },
     "execution_count": 21,
     "metadata": {},
     "output_type": "execute_result"
    }
   ],
   "source": [
    "#returns schools with more than 95% hispanics\n",
    "filt = combined['hispanic_per'] > 95\n",
    "hispanic_more_than_95 = combined[filt]\n",
    "hispanic_more_than_95['SCHOOL NAME']"
   ]
  },
  {
   "cell_type": "markdown",
   "metadata": {},
   "source": [
    "One thing common about the schools with over 95% of hisoancic students is that they all have a high percentage of minority enrollments. Usually 98% or more minority enrolllments  "
   ]
  },
  {
   "cell_type": "code",
   "execution_count": 22,
   "metadata": {},
   "outputs": [
    {
     "data": {
      "text/plain": [
       "37                                STUYVESANT HIGH SCHOOL\n",
       "151                         BRONX HIGH SCHOOL OF SCIENCE\n",
       "187                       BROOKLYN TECHNICAL HIGH SCHOOL\n",
       "327    QUEENS HIGH SCHOOL FOR THE SCIENCES AT YORK CO...\n",
       "356                  STATEN ISLAND TECHNICAL HIGH SCHOOL\n",
       "Name: SCHOOL NAME, dtype: object"
      ]
     },
     "execution_count": 22,
     "metadata": {},
     "output_type": "execute_result"
    }
   ],
   "source": [
    "#returns the result of schools with less than 10% hispanic and SAT scores > 1800\n",
    "filt = (combined['hispanic_per'] < 10) & (combined['sat_score'] > 1800)\n",
    "low_hisp_high_sat = combined[filt]\n",
    "low_hisp_high_sat['SCHOOL NAME']"
   ]
  },
  {
   "cell_type": "markdown",
   "metadata": {},
   "source": [
    "For the sschools with less than 10% hispanic, What I have found out is that they are all part of the top 10 schools in New York snd these schools are generally geared towards sciences, This may Explain the high SAT scores. Although this schools have lower minority enrolment than schools with 95% hispanic, the difference is not as noticable as that of the economically disadvantaged people enrolled in these schools. Where schools with more than 95% hispanic had an economically disadvantaged enrollment of more than 90%, the schools with less than 10% hispanic on the other hand did not have an economically disadvantaged enrollment of more than 62%. So it is safe to infer that the rate of economically disadvantaged students enrolled in a school plays a part in why there are school's with a lot of hispanics and others with not so much."
   ]
  },
  {
   "cell_type": "markdown",
   "metadata": {},
   "source": [
    "# Correlation with Gender"
   ]
  },
  {
   "cell_type": "code",
   "execution_count": 23,
   "metadata": {},
   "outputs": [
    {
     "data": {
      "image/png": "[encoded data removed]",
      "text/plain": [
       "<Figure size 600x400 with 1 Axes>"
      ]
     },
     "metadata": {},
     "output_type": "display_data"
    }
   ],
   "source": [
    "#returns a bar plot of the r values between gender and SAT scores\n",
    "gender_col = ['female_per', 'male_per']\n",
    "gender_corr = combined.corr()['sat_score'][gender_col]\n",
    "positive_corr = combined.corr()['sat_score'][gender_col] > 0\n",
    "corr_map = positive_corr.map({True:'#151b8d', False:'#ff4500'})\n",
    "gender_corr.plot.bar(color=corr_map)\n",
    "plt.show()\n"
   ]
  },
  {
   "cell_type": "markdown",
   "metadata": {},
   "source": [
    "Although the r values do not show strong correlations, the male percentage correlates negatively with SAT scores while the female percentage correlates positively with SAT scores."
   ]
  },
  {
   "cell_type": "markdown",
   "metadata": {},
   "source": [
    "# Exploring Female percentages"
   ]
  },
  {
   "cell_type": "code",
   "execution_count": 24,
   "metadata": {},
   "outputs": [
    {
     "data": {
      "image/png": "[encoded data removed]",
      "text/plain": [
       "<Figure size 600x400 with 1 Axes>"
      ]
     },
     "metadata": {},
     "output_type": "display_data"
    }
   ],
   "source": [
    "#displays a scatter plot showing the correlation between female percentage and SAT scores\n",
    "combined.plot.scatter('female_per', 'sat_score', c='#3ea99f')\n",
    "plt.show()"
   ]
  },
  {
   "cell_type": "markdown",
   "metadata": {},
   "source": [
    "Our scatter plot shows us that there are little to no correlation between the female percentage and the SAT scores"
   ]
  },
  {
   "cell_type": "code",
   "execution_count": 25,
   "metadata": {},
   "outputs": [
    {
     "data": {
      "text/plain": [
       "5                         BARD HIGH SCHOOL EARLY COLLEGE\n",
       "26                         ELEANOR ROOSEVELT HIGH SCHOOL\n",
       "60                                    BEACON HIGH SCHOOL\n",
       "61     FIORELLO H. LAGUARDIA HIGH SCHOOL OF MUSIC & A...\n",
       "302                          TOWNSEND HARRIS HIGH SCHOOL\n",
       "Name: SCHOOL NAME, dtype: object"
      ]
     },
     "execution_count": 25,
     "metadata": {},
     "output_type": "execute_result"
    }
   ],
   "source": [
    "#returns schools with more than 60% female and SAT scores greater than 1700\n",
    "filt = (combined['female_per'] > 60) & (combined['sat_score'] > 1700)\n",
    "high_female_high_sat = combined[filt]\n",
    "high_female_high_sat['SCHOOL NAME']"
   ]
  },
  {
   "cell_type": "markdown",
   "metadata": {},
   "source": [
    "The most common thing about these schools is the low enrollment rate for the economically challenged. They also seem to be more of liberal arts schools"
   ]
  },
  {
   "cell_type": "markdown",
   "metadata": {},
   "source": [
    "# Correlation with Advanced Placement(AP) Exams"
   ]
  },
  {
   "cell_type": "code",
   "execution_count": 26,
   "metadata": {},
   "outputs": [],
   "source": [
    "#creates a new column with the AP percentages\n",
    "combined['ap_per'] = combined['AP Test Takers '] / combined['total_enrollment'] * 100"
   ]
  },
  {
   "cell_type": "code",
   "execution_count": 27,
   "metadata": {},
   "outputs": [
    {
     "data": {
      "image/png": "[encoded data removed]",
      "text/plain": [
       "<Figure size 600x400 with 1 Axes>"
      ]
     },
     "metadata": {},
     "output_type": "display_data"
    }
   ],
   "source": [
    "#displays a scatter plot showing the correlation between AP percentages and SAT scores\n",
    "combined.plot.scatter('ap_per', 'sat_score', c='#3ea99f')\n",
    "plt.show()"
   ]
  },
  {
   "cell_type": "markdown",
   "metadata": {},
   "source": [
    "Our scatter plot shows us that there is little to no correlation between AP scores and SAT scores"
   ]
  },
  {
   "cell_type": "markdown",
   "metadata": {},
   "source": [
    "# Correlation with Class Size"
   ]
  },
  {
   "cell_type": "code",
   "execution_count": 28,
   "metadata": {
    "scrolled": true
   },
   "outputs": [
    {
     "data": {
      "image/png": "[encoded data removed]",
      "text/plain": [
       "<Figure size 600x400 with 1 Axes>"
      ]
     },
     "metadata": {},
     "output_type": "display_data"
    }
   ],
   "source": [
    "#displays a scatter plot showing the correlayion between SAT scores and class size.\n",
    "combined.plot.scatter('AVERAGE CLASS SIZE', 'sat_score', c='#3ea99f')\n",
    "plt.show()"
   ]
  },
  {
   "cell_type": "markdown",
   "metadata": {},
   "source": [
    "Our plot shows us that there is also little to no correlation between class size and SAT scores."
   ]
  },
  {
   "cell_type": "markdown",
   "metadata": {},
   "source": [
    "# Assigning Points to School\n",
    "We are going to assign points to school based on how well they perform in SAT tests. There is going to be a total of 5 points. Schools with SAT scores above 1800 will get 5 points, while those with 1400 to 1800 wil get 4 points. Scores between 1200 to 1400 gets 3points, scores between 1000 to 1200 gets 2 points and scores below 1000 get 1 point."
   ]
  },
  {
   "cell_type": "code",
   "execution_count": 29,
   "metadata": {},
   "outputs": [],
   "source": [
    "def point(val):\n",
    "    ###assigns points based on SAT scores\n",
    "    if val >= 1600:\n",
    "        return 5\n",
    "    elif val >= 1300 < 1600:\n",
    "        return 4\n",
    "    elif val >= 1200 < 1400:\n",
    "        return 3\n",
    "    elif val >= 1000 < 1200:\n",
    "        return 2\n",
    "    else:\n",
    "        return 1"
   ]
  },
  {
   "cell_type": "code",
   "execution_count": 30,
   "metadata": {},
   "outputs": [],
   "source": [
    "combined['sat_points'] = combined['sat_score'].apply(point)"
   ]
  },
  {
   "cell_type": "code",
   "execution_count": 31,
   "metadata": {},
   "outputs": [
    {
     "data": {
      "text/html": [
       "<div>\n",
       "<style scoped>\n",
       "    .dataframe tbody tr th:only-of-type {\n",
       "        vertical-align: middle;\n",
       "    }\n",
       "\n",
       "    .dataframe tbody tr th {\n",
       "        vertical-align: top;\n",
       "    }\n",
       "\n",
       "    .dataframe thead th {\n",
       "        text-align: right;\n",
       "    }\n",
       "</style>\n",
       "<table border=\"1\" class=\"dataframe\">\n",
       "  <thead>\n",
       "    <tr style=\"text-align: right;\">\n",
       "      <th></th>\n",
       "      <th>DBN</th>\n",
       "      <th>SCHOOL NAME</th>\n",
       "      <th>Num of SAT Test Takers</th>\n",
       "      <th>SAT Critical Reading Avg. Score</th>\n",
       "      <th>SAT Math Avg. Score</th>\n",
       "      <th>SAT Writing Avg. Score</th>\n",
       "      <th>sat_score</th>\n",
       "      <th>SchoolName</th>\n",
       "      <th>AP Test Takers</th>\n",
       "      <th>Total Exams Taken</th>\n",
       "      <th>...</th>\n",
       "      <th>priority07</th>\n",
       "      <th>priority08</th>\n",
       "      <th>priority09</th>\n",
       "      <th>priority10</th>\n",
       "      <th>Location 1</th>\n",
       "      <th>lat</th>\n",
       "      <th>lon</th>\n",
       "      <th>school_dist</th>\n",
       "      <th>ap_per</th>\n",
       "      <th>sat_points</th>\n",
       "    </tr>\n",
       "  </thead>\n",
       "  <tbody>\n",
       "    <tr>\n",
       "      <th>0</th>\n",
       "      <td>01M292</td>\n",
       "      <td>HENRY STREET SCHOOL FOR INTERNATIONAL STUDIES</td>\n",
       "      <td>29</td>\n",
       "      <td>355.0</td>\n",
       "      <td>404.0</td>\n",
       "      <td>363.0</td>\n",
       "      <td>1122.0</td>\n",
       "      <td>0</td>\n",
       "      <td>129.028846</td>\n",
       "      <td>197.038462</td>\n",
       "      <td>...</td>\n",
       "      <td>0</td>\n",
       "      <td>0.0</td>\n",
       "      <td>0.0</td>\n",
       "      <td>0.0</td>\n",
       "      <td>220 Henry Street\\nNew York, NY 10002\\n(40.7137...</td>\n",
       "      <td>40.713764</td>\n",
       "      <td>-73.985260</td>\n",
       "      <td>01</td>\n",
       "      <td>30.575556</td>\n",
       "      <td>2</td>\n",
       "    </tr>\n",
       "    <tr>\n",
       "      <th>1</th>\n",
       "      <td>01M448</td>\n",
       "      <td>UNIVERSITY NEIGHBORHOOD HIGH SCHOOL</td>\n",
       "      <td>91</td>\n",
       "      <td>383.0</td>\n",
       "      <td>423.0</td>\n",
       "      <td>366.0</td>\n",
       "      <td>1172.0</td>\n",
       "      <td>UNIVERSITY NEIGHBORHOOD H.S.</td>\n",
       "      <td>39.000000</td>\n",
       "      <td>49.000000</td>\n",
       "      <td>...</td>\n",
       "      <td>0</td>\n",
       "      <td>0.0</td>\n",
       "      <td>0.0</td>\n",
       "      <td>0.0</td>\n",
       "      <td>200 Monroe Street\\nNew York, NY 10002\\n(40.712...</td>\n",
       "      <td>40.712332</td>\n",
       "      <td>-73.984797</td>\n",
       "      <td>01</td>\n",
       "      <td>9.898477</td>\n",
       "      <td>2</td>\n",
       "    </tr>\n",
       "    <tr>\n",
       "      <th>2</th>\n",
       "      <td>01M450</td>\n",
       "      <td>EAST SIDE COMMUNITY SCHOOL</td>\n",
       "      <td>70</td>\n",
       "      <td>377.0</td>\n",
       "      <td>402.0</td>\n",
       "      <td>370.0</td>\n",
       "      <td>1149.0</td>\n",
       "      <td>EAST SIDE COMMUNITY HS</td>\n",
       "      <td>19.000000</td>\n",
       "      <td>21.000000</td>\n",
       "      <td>...</td>\n",
       "      <td>0</td>\n",
       "      <td>0.0</td>\n",
       "      <td>0.0</td>\n",
       "      <td>0.0</td>\n",
       "      <td>420 East 12 Street\\nNew York, NY 10009\\n(40.72...</td>\n",
       "      <td>40.729783</td>\n",
       "      <td>-73.983041</td>\n",
       "      <td>01</td>\n",
       "      <td>3.177258</td>\n",
       "      <td>2</td>\n",
       "    </tr>\n",
       "    <tr>\n",
       "      <th>3</th>\n",
       "      <td>01M509</td>\n",
       "      <td>MARTA VALLE HIGH SCHOOL</td>\n",
       "      <td>44</td>\n",
       "      <td>390.0</td>\n",
       "      <td>433.0</td>\n",
       "      <td>384.0</td>\n",
       "      <td>1207.0</td>\n",
       "      <td>0</td>\n",
       "      <td>129.028846</td>\n",
       "      <td>197.038462</td>\n",
       "      <td>...</td>\n",
       "      <td>0</td>\n",
       "      <td>0.0</td>\n",
       "      <td>0.0</td>\n",
       "      <td>0.0</td>\n",
       "      <td>145 Stanton Street\\nNew York, NY 10002\\n(40.72...</td>\n",
       "      <td>40.720569</td>\n",
       "      <td>-73.985673</td>\n",
       "      <td>01</td>\n",
       "      <td>35.157724</td>\n",
       "      <td>3</td>\n",
       "    </tr>\n",
       "    <tr>\n",
       "      <th>4</th>\n",
       "      <td>01M539</td>\n",
       "      <td>NEW EXPLORATIONS INTO SCIENCE, TECHNOLOGY AND ...</td>\n",
       "      <td>159</td>\n",
       "      <td>522.0</td>\n",
       "      <td>574.0</td>\n",
       "      <td>525.0</td>\n",
       "      <td>1621.0</td>\n",
       "      <td>NEW EXPLORATIONS SCI,TECH,MATH</td>\n",
       "      <td>255.000000</td>\n",
       "      <td>377.000000</td>\n",
       "      <td>...</td>\n",
       "      <td>0</td>\n",
       "      <td>0.0</td>\n",
       "      <td>0.0</td>\n",
       "      <td>0.0</td>\n",
       "      <td>111 Columbia Street\\nNew York, NY 10002\\n(40.7...</td>\n",
       "      <td>40.718725</td>\n",
       "      <td>-73.979426</td>\n",
       "      <td>01</td>\n",
       "      <td>15.809051</td>\n",
       "      <td>5</td>\n",
       "    </tr>\n",
       "    <tr>\n",
       "      <th>...</th>\n",
       "      <td>...</td>\n",
       "      <td>...</td>\n",
       "      <td>...</td>\n",
       "      <td>...</td>\n",
       "      <td>...</td>\n",
       "      <td>...</td>\n",
       "      <td>...</td>\n",
       "      <td>...</td>\n",
       "      <td>...</td>\n",
       "      <td>...</td>\n",
       "      <td>...</td>\n",
       "      <td>...</td>\n",
       "      <td>...</td>\n",
       "      <td>...</td>\n",
       "      <td>...</td>\n",
       "      <td>...</td>\n",
       "      <td>...</td>\n",
       "      <td>...</td>\n",
       "      <td>...</td>\n",
       "      <td>...</td>\n",
       "      <td>...</td>\n",
       "    </tr>\n",
       "    <tr>\n",
       "      <th>358</th>\n",
       "      <td>32K545</td>\n",
       "      <td>EBC HIGH SCHOOL FOR PUBLIC SERVICE–BUSHWICK</td>\n",
       "      <td>88</td>\n",
       "      <td>384.0</td>\n",
       "      <td>409.0</td>\n",
       "      <td>361.0</td>\n",
       "      <td>1154.0</td>\n",
       "      <td>EBC-HS FOR PUB SERVICE (BUSH)</td>\n",
       "      <td>47.000000</td>\n",
       "      <td>64.000000</td>\n",
       "      <td>...</td>\n",
       "      <td>0</td>\n",
       "      <td>0.0</td>\n",
       "      <td>0.0</td>\n",
       "      <td>0.0</td>\n",
       "      <td>1155 Dekalb Avenue\\nBrooklyn, NY 11221\\n(40.69...</td>\n",
       "      <td>40.694482</td>\n",
       "      <td>-73.929154</td>\n",
       "      <td>32</td>\n",
       "      <td>7.755776</td>\n",
       "      <td>2</td>\n",
       "    </tr>\n",
       "    <tr>\n",
       "      <th>359</th>\n",
       "      <td>32K549</td>\n",
       "      <td>BUSHWICK SCHOOL FOR SOCIAL JUSTICE</td>\n",
       "      <td>75</td>\n",
       "      <td>348.0</td>\n",
       "      <td>353.0</td>\n",
       "      <td>334.0</td>\n",
       "      <td>1035.0</td>\n",
       "      <td>0</td>\n",
       "      <td>129.028846</td>\n",
       "      <td>197.038462</td>\n",
       "      <td>...</td>\n",
       "      <td>0</td>\n",
       "      <td>0.0</td>\n",
       "      <td>0.0</td>\n",
       "      <td>0.0</td>\n",
       "      <td>400 Irving Avenue\\nBrooklyn, NY 11237\\n(40.696...</td>\n",
       "      <td>40.696962</td>\n",
       "      <td>-73.910816</td>\n",
       "      <td>32</td>\n",
       "      <td>29.730149</td>\n",
       "      <td>2</td>\n",
       "    </tr>\n",
       "    <tr>\n",
       "      <th>360</th>\n",
       "      <td>32K552</td>\n",
       "      <td>ACADEMY OF URBAN PLANNING</td>\n",
       "      <td>67</td>\n",
       "      <td>342.0</td>\n",
       "      <td>364.0</td>\n",
       "      <td>354.0</td>\n",
       "      <td>1060.0</td>\n",
       "      <td>Academy of Urban Planning</td>\n",
       "      <td>76.000000</td>\n",
       "      <td>100.000000</td>\n",
       "      <td>...</td>\n",
       "      <td>0</td>\n",
       "      <td>0.0</td>\n",
       "      <td>0.0</td>\n",
       "      <td>0.0</td>\n",
       "      <td>400 Irving Avenue\\nBrooklyn, NY 11237\\n(40.696...</td>\n",
       "      <td>40.696962</td>\n",
       "      <td>-73.910816</td>\n",
       "      <td>32</td>\n",
       "      <td>19.095477</td>\n",
       "      <td>2</td>\n",
       "    </tr>\n",
       "    <tr>\n",
       "      <th>361</th>\n",
       "      <td>32K554</td>\n",
       "      <td>ALL CITY LEADERSHIP SECONDARY SCHOOL</td>\n",
       "      <td>39</td>\n",
       "      <td>428.0</td>\n",
       "      <td>465.0</td>\n",
       "      <td>422.0</td>\n",
       "      <td>1315.0</td>\n",
       "      <td>All City Leadership Secondary School</td>\n",
       "      <td>7.000000</td>\n",
       "      <td>8.000000</td>\n",
       "      <td>...</td>\n",
       "      <td>Then to New York City residents</td>\n",
       "      <td>0.0</td>\n",
       "      <td>0.0</td>\n",
       "      <td>0.0</td>\n",
       "      <td>321 Palmetto Street\\nBrooklyn, NY 11237\\n(40.6...</td>\n",
       "      <td>40.697408</td>\n",
       "      <td>-73.913153</td>\n",
       "      <td>32</td>\n",
       "      <td>2.661597</td>\n",
       "      <td>4</td>\n",
       "    </tr>\n",
       "    <tr>\n",
       "      <th>362</th>\n",
       "      <td>32K556</td>\n",
       "      <td>BUSHWICK LEADERS HIGH SCHOOL FOR ACADEMIC EXCE...</td>\n",
       "      <td>23</td>\n",
       "      <td>347.0</td>\n",
       "      <td>358.0</td>\n",
       "      <td>350.0</td>\n",
       "      <td>1055.0</td>\n",
       "      <td>Bushwick Leaders High School for Academic Exce...</td>\n",
       "      <td>34.000000</td>\n",
       "      <td>35.000000</td>\n",
       "      <td>...</td>\n",
       "      <td>0</td>\n",
       "      <td>0.0</td>\n",
       "      <td>0.0</td>\n",
       "      <td>0.0</td>\n",
       "      <td>797 Bushwick Avenue\\nBrooklyn, NY 11221\\n(40.6...</td>\n",
       "      <td>40.694996</td>\n",
       "      <td>-73.927986</td>\n",
       "      <td>32</td>\n",
       "      <td>7.359307</td>\n",
       "      <td>2</td>\n",
       "    </tr>\n",
       "  </tbody>\n",
       "</table>\n",
       "<p>363 rows × 162 columns</p>\n",
       "</div>"
      ],
      "text/plain": [
       "        DBN                                        SCHOOL NAME  \\\n",
       "0    01M292      HENRY STREET SCHOOL FOR INTERNATIONAL STUDIES   \n",
       "1    01M448                UNIVERSITY NEIGHBORHOOD HIGH SCHOOL   \n",
       "2    01M450                         EAST SIDE COMMUNITY SCHOOL   \n",
       "3    01M509                            MARTA VALLE HIGH SCHOOL   \n",
       "4    01M539  NEW EXPLORATIONS INTO SCIENCE, TECHNOLOGY AND ...   \n",
       "..      ...                                                ...   \n",
       "358  32K545        EBC HIGH SCHOOL FOR PUBLIC SERVICE–BUSHWICK   \n",
       "359  32K549                 BUSHWICK SCHOOL FOR SOCIAL JUSTICE   \n",
       "360  32K552                          ACADEMY OF URBAN PLANNING   \n",
       "361  32K554               ALL CITY LEADERSHIP SECONDARY SCHOOL   \n",
       "362  32K556  BUSHWICK LEADERS HIGH SCHOOL FOR ACADEMIC EXCE...   \n",
       "\n",
       "    Num of SAT Test Takers  SAT Critical Reading Avg. Score  \\\n",
       "0                       29                            355.0   \n",
       "1                       91                            383.0   \n",
       "2                       70                            377.0   \n",
       "3                       44                            390.0   \n",
       "4                      159                            522.0   \n",
       "..                     ...                              ...   \n",
       "358                     88                            384.0   \n",
       "359                     75                            348.0   \n",
       "360                     67                            342.0   \n",
       "361                     39                            428.0   \n",
       "362                     23                            347.0   \n",
       "\n",
       "     SAT Math Avg. Score  SAT Writing Avg. Score  sat_score  \\\n",
       "0                  404.0                   363.0     1122.0   \n",
       "1                  423.0                   366.0     1172.0   \n",
       "2                  402.0                   370.0     1149.0   \n",
       "3                  433.0                   384.0     1207.0   \n",
       "4                  574.0                   525.0     1621.0   \n",
       "..                   ...                     ...        ...   \n",
       "358                409.0                   361.0     1154.0   \n",
       "359                353.0                   334.0     1035.0   \n",
       "360                364.0                   354.0     1060.0   \n",
       "361                465.0                   422.0     1315.0   \n",
       "362                358.0                   350.0     1055.0   \n",
       "\n",
       "                                            SchoolName  AP Test Takers   \\\n",
       "0                                                    0       129.028846   \n",
       "1                         UNIVERSITY NEIGHBORHOOD H.S.        39.000000   \n",
       "2                               EAST SIDE COMMUNITY HS        19.000000   \n",
       "3                                                    0       129.028846   \n",
       "4                       NEW EXPLORATIONS SCI,TECH,MATH       255.000000   \n",
       "..                                                 ...              ...   \n",
       "358                      EBC-HS FOR PUB SERVICE (BUSH)        47.000000   \n",
       "359                                                  0       129.028846   \n",
       "360                          Academy of Urban Planning        76.000000   \n",
       "361               All City Leadership Secondary School         7.000000   \n",
       "362  Bushwick Leaders High School for Academic Exce...        34.000000   \n",
       "\n",
       "     Total Exams Taken  ...                       priority07 priority08  \\\n",
       "0           197.038462  ...                                0        0.0   \n",
       "1            49.000000  ...                                0        0.0   \n",
       "2            21.000000  ...                                0        0.0   \n",
       "3           197.038462  ...                                0        0.0   \n",
       "4           377.000000  ...                                0        0.0   \n",
       "..                 ...  ...                              ...        ...   \n",
       "358          64.000000  ...                                0        0.0   \n",
       "359         197.038462  ...                                0        0.0   \n",
       "360         100.000000  ...                                0        0.0   \n",
       "361           8.000000  ...  Then to New York City residents        0.0   \n",
       "362          35.000000  ...                                0        0.0   \n",
       "\n",
       "    priority09 priority10                                         Location 1  \\\n",
       "0          0.0        0.0  220 Henry Street\\nNew York, NY 10002\\n(40.7137...   \n",
       "1          0.0        0.0  200 Monroe Street\\nNew York, NY 10002\\n(40.712...   \n",
       "2          0.0        0.0  420 East 12 Street\\nNew York, NY 10009\\n(40.72...   \n",
       "3          0.0        0.0  145 Stanton Street\\nNew York, NY 10002\\n(40.72...   \n",
       "4          0.0        0.0  111 Columbia Street\\nNew York, NY 10002\\n(40.7...   \n",
       "..         ...        ...                                                ...   \n",
       "358        0.0        0.0  1155 Dekalb Avenue\\nBrooklyn, NY 11221\\n(40.69...   \n",
       "359        0.0        0.0  400 Irving Avenue\\nBrooklyn, NY 11237\\n(40.696...   \n",
       "360        0.0        0.0  400 Irving Avenue\\nBrooklyn, NY 11237\\n(40.696...   \n",
       "361        0.0        0.0  321 Palmetto Street\\nBrooklyn, NY 11237\\n(40.6...   \n",
       "362        0.0        0.0  797 Bushwick Avenue\\nBrooklyn, NY 11221\\n(40.6...   \n",
       "\n",
       "           lat        lon school_dist     ap_per sat_points  \n",
       "0    40.713764 -73.985260          01  30.575556          2  \n",
       "1    40.712332 -73.984797          01   9.898477          2  \n",
       "2    40.729783 -73.983041          01   3.177258          2  \n",
       "3    40.720569 -73.985673          01  35.157724          3  \n",
       "4    40.718725 -73.979426          01  15.809051          5  \n",
       "..         ...        ...         ...        ...        ...  \n",
       "358  40.694482 -73.929154          32   7.755776          2  \n",
       "359  40.696962 -73.910816          32  29.730149          2  \n",
       "360  40.696962 -73.910816          32  19.095477          2  \n",
       "361  40.697408 -73.913153          32   2.661597          4  \n",
       "362  40.694996 -73.927986          32   7.359307          2  \n",
       "\n",
       "[363 rows x 162 columns]"
      ]
     },
     "execution_count": 31,
     "metadata": {},
     "output_type": "execute_result"
    }
   ],
   "source": [
    "combined"
   ]
  },
  {
   "cell_type": "markdown",
   "metadata": {},
   "source": [
    "# Average School Points per Borough"
   ]
  },
  {
   "cell_type": "code",
   "execution_count": 32,
   "metadata": {
    "scrolled": true
   },
   "outputs": [
    {
     "data": {
      "image/png": "[encoded data removed]",
      "text/plain": [
       "<Figure size 600x400 with 1 Axes>"
      ]
     },
     "metadata": {},
     "output_type": "display_data"
    }
   ],
   "source": [
    "#displays a bar plot of the average school points for schools in each borough\n",
    "boro_pvt = combined.pivot_table(index='boro', values='sat_points')\n",
    "boro_pvt.plot.bar(rot=45, color='#3ea99f')\n",
    "plt.show()"
   ]
  },
  {
   "cell_type": "markdown",
   "metadata": {},
   "source": [
    "We can see from our plot that Staten Island is the borough with the most high performing schools on SATs while Bronx is the borough with the least performing schools on SATs."
   ]
  },
  {
   "cell_type": "markdown",
   "metadata": {},
   "source": [
    "# Conclusion\n",
    "Our goal initially in this analysis is to uncover whether standardized tests like the SATs has some sort of bias towards certain demographics and to find the correlation bewteen these demographics and the SAT scores. So far we have found out the following:\n",
    "1. There is a negative correlation between the percentage of hispanics and SAT scores in a school. While this looks to be a troubling trend, on futher investigation, we discovered that the schools which had low hispanic percentages and high sat scores were shcools with low enrollment for those with economical disadvantage. This could point to some kind of economic disparity between the hispanics and other demographics.\n",
    "\n",
    "2. Suprisingly there wasn't a very strong correlation between SAT scores and gender, so one can conclude that there isn't any gender bias in the SAT scores.\n",
    "\n",
    "3. There was also very little correlation between AP and SAT scores. ie: schools with high enrollment in AP tests didn't have any significant advantage over other schools\n",
    "\n",
    "4. Of the  high schools in New York, the shcools  at Saten Island seemed to perform the best in SAT scores, followed by Queens, Manhattan, Brroklyn and lastly Bronx."
   ]
  },
  {
   "cell_type": "code",
   "execution_count": null,
   "metadata": {},
   "outputs": [],
   "source": []
  }
 ],
 "metadata": {
  "kernelspec": {
   "display_name": "Python 3",
   "language": "python",
   "name": "python3"
  },
  "language_info": {
   "codemirror_mode": {
    "name": "ipython",
    "version": 3
   },
   "file_extension": ".py",
   "mimetype": "text/x-python",
   "name": "python",
   "nbconvert_exporter": "python",
   "pygments_lexer": "ipython3",
   "version": "3.8.2"
  }
 },
 "nbformat": 4,
 "nbformat_minor": 2
}
